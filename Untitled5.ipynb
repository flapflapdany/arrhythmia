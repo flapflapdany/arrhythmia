{
 "cells": [
  {
   "cell_type": "code",
   "execution_count": 78,
   "id": "90f71048",
   "metadata": {},
   "outputs": [],
   "source": [
    "import pandas as pd\n",
    "import numpy as np\n",
    "import matplotlib.pyplot as plt\n",
    "import warnings\n",
    "warnings.filterwarnings('ignore')"
   ]
  },
  {
   "cell_type": "code",
   "execution_count": 79,
   "id": "a04907ef",
   "metadata": {},
   "outputs": [
    {
     "data": {
      "text/html": [
       "<div>\n",
       "<style scoped>\n",
       "    .dataframe tbody tr th:only-of-type {\n",
       "        vertical-align: middle;\n",
       "    }\n",
       "\n",
       "    .dataframe tbody tr th {\n",
       "        vertical-align: top;\n",
       "    }\n",
       "\n",
       "    .dataframe thead th {\n",
       "        text-align: right;\n",
       "    }\n",
       "</style>\n",
       "<table border=\"1\" class=\"dataframe\">\n",
       "  <thead>\n",
       "    <tr style=\"text-align: right;\">\n",
       "      <th></th>\n",
       "      <th>Age</th>\n",
       "      <th>sex</th>\n",
       "      <th>height</th>\n",
       "      <th>weight</th>\n",
       "      <th>QRS_duration</th>\n",
       "      <th>P-R_interval</th>\n",
       "      <th>Q-T_interval</th>\n",
       "      <th>T_interval</th>\n",
       "      <th>P_interval</th>\n",
       "      <th>QRS</th>\n",
       "      <th>...</th>\n",
       "      <th>Amp_V6_Q_wave</th>\n",
       "      <th>Amp_V6_R_wave</th>\n",
       "      <th>Amp_V6_S_wave</th>\n",
       "      <th>Amp_V6_R'_wave</th>\n",
       "      <th>Amp_V6_S'_wave</th>\n",
       "      <th>Amp_V6_P_wave</th>\n",
       "      <th>Amp_V6_T_wave</th>\n",
       "      <th>Amp_V6_QRSA</th>\n",
       "      <th>Amp_V6_QRSTA</th>\n",
       "      <th>cardiac_arrhythmia</th>\n",
       "    </tr>\n",
       "  </thead>\n",
       "  <tbody>\n",
       "    <tr>\n",
       "      <th>0</th>\n",
       "      <td>75</td>\n",
       "      <td>0</td>\n",
       "      <td>190</td>\n",
       "      <td>80</td>\n",
       "      <td>91</td>\n",
       "      <td>193</td>\n",
       "      <td>371</td>\n",
       "      <td>174</td>\n",
       "      <td>121</td>\n",
       "      <td>-16</td>\n",
       "      <td>...</td>\n",
       "      <td>0.0</td>\n",
       "      <td>9.0</td>\n",
       "      <td>-0.9</td>\n",
       "      <td>0.0</td>\n",
       "      <td>0</td>\n",
       "      <td>0.9</td>\n",
       "      <td>2.9</td>\n",
       "      <td>23.3</td>\n",
       "      <td>49.4</td>\n",
       "      <td>8</td>\n",
       "    </tr>\n",
       "    <tr>\n",
       "      <th>1</th>\n",
       "      <td>56</td>\n",
       "      <td>1</td>\n",
       "      <td>165</td>\n",
       "      <td>64</td>\n",
       "      <td>81</td>\n",
       "      <td>174</td>\n",
       "      <td>401</td>\n",
       "      <td>149</td>\n",
       "      <td>39</td>\n",
       "      <td>25</td>\n",
       "      <td>...</td>\n",
       "      <td>0.0</td>\n",
       "      <td>8.5</td>\n",
       "      <td>0.0</td>\n",
       "      <td>0.0</td>\n",
       "      <td>0</td>\n",
       "      <td>0.2</td>\n",
       "      <td>2.1</td>\n",
       "      <td>20.4</td>\n",
       "      <td>38.8</td>\n",
       "      <td>6</td>\n",
       "    </tr>\n",
       "    <tr>\n",
       "      <th>2</th>\n",
       "      <td>54</td>\n",
       "      <td>0</td>\n",
       "      <td>172</td>\n",
       "      <td>95</td>\n",
       "      <td>138</td>\n",
       "      <td>163</td>\n",
       "      <td>386</td>\n",
       "      <td>185</td>\n",
       "      <td>102</td>\n",
       "      <td>96</td>\n",
       "      <td>...</td>\n",
       "      <td>0.0</td>\n",
       "      <td>9.5</td>\n",
       "      <td>-2.4</td>\n",
       "      <td>0.0</td>\n",
       "      <td>0</td>\n",
       "      <td>0.3</td>\n",
       "      <td>3.4</td>\n",
       "      <td>12.3</td>\n",
       "      <td>49.0</td>\n",
       "      <td>10</td>\n",
       "    </tr>\n",
       "    <tr>\n",
       "      <th>3</th>\n",
       "      <td>55</td>\n",
       "      <td>0</td>\n",
       "      <td>175</td>\n",
       "      <td>94</td>\n",
       "      <td>100</td>\n",
       "      <td>202</td>\n",
       "      <td>380</td>\n",
       "      <td>179</td>\n",
       "      <td>143</td>\n",
       "      <td>28</td>\n",
       "      <td>...</td>\n",
       "      <td>0.0</td>\n",
       "      <td>12.2</td>\n",
       "      <td>-2.2</td>\n",
       "      <td>0.0</td>\n",
       "      <td>0</td>\n",
       "      <td>0.4</td>\n",
       "      <td>2.6</td>\n",
       "      <td>34.6</td>\n",
       "      <td>61.6</td>\n",
       "      <td>1</td>\n",
       "    </tr>\n",
       "    <tr>\n",
       "      <th>4</th>\n",
       "      <td>75</td>\n",
       "      <td>0</td>\n",
       "      <td>190</td>\n",
       "      <td>80</td>\n",
       "      <td>88</td>\n",
       "      <td>181</td>\n",
       "      <td>360</td>\n",
       "      <td>177</td>\n",
       "      <td>103</td>\n",
       "      <td>-16</td>\n",
       "      <td>...</td>\n",
       "      <td>0.0</td>\n",
       "      <td>13.1</td>\n",
       "      <td>-3.6</td>\n",
       "      <td>0.0</td>\n",
       "      <td>0</td>\n",
       "      <td>-0.1</td>\n",
       "      <td>3.9</td>\n",
       "      <td>25.4</td>\n",
       "      <td>62.8</td>\n",
       "      <td>7</td>\n",
       "    </tr>\n",
       "    <tr>\n",
       "      <th>5</th>\n",
       "      <td>13</td>\n",
       "      <td>0</td>\n",
       "      <td>169</td>\n",
       "      <td>51</td>\n",
       "      <td>100</td>\n",
       "      <td>167</td>\n",
       "      <td>321</td>\n",
       "      <td>174</td>\n",
       "      <td>91</td>\n",
       "      <td>107</td>\n",
       "      <td>...</td>\n",
       "      <td>-0.6</td>\n",
       "      <td>12.2</td>\n",
       "      <td>-2.8</td>\n",
       "      <td>0.0</td>\n",
       "      <td>0</td>\n",
       "      <td>0.9</td>\n",
       "      <td>2.2</td>\n",
       "      <td>13.5</td>\n",
       "      <td>31.1</td>\n",
       "      <td>14</td>\n",
       "    </tr>\n",
       "    <tr>\n",
       "      <th>6</th>\n",
       "      <td>40</td>\n",
       "      <td>1</td>\n",
       "      <td>160</td>\n",
       "      <td>52</td>\n",
       "      <td>77</td>\n",
       "      <td>129</td>\n",
       "      <td>377</td>\n",
       "      <td>133</td>\n",
       "      <td>77</td>\n",
       "      <td>77</td>\n",
       "      <td>...</td>\n",
       "      <td>0.0</td>\n",
       "      <td>6.5</td>\n",
       "      <td>0.0</td>\n",
       "      <td>0.0</td>\n",
       "      <td>0</td>\n",
       "      <td>0.4</td>\n",
       "      <td>1.0</td>\n",
       "      <td>14.3</td>\n",
       "      <td>20.5</td>\n",
       "      <td>1</td>\n",
       "    </tr>\n",
       "    <tr>\n",
       "      <th>7</th>\n",
       "      <td>49</td>\n",
       "      <td>1</td>\n",
       "      <td>162</td>\n",
       "      <td>54</td>\n",
       "      <td>78</td>\n",
       "      <td>0</td>\n",
       "      <td>376</td>\n",
       "      <td>157</td>\n",
       "      <td>70</td>\n",
       "      <td>67</td>\n",
       "      <td>...</td>\n",
       "      <td>0.0</td>\n",
       "      <td>8.2</td>\n",
       "      <td>-1.9</td>\n",
       "      <td>0.0</td>\n",
       "      <td>0</td>\n",
       "      <td>0.1</td>\n",
       "      <td>0.5</td>\n",
       "      <td>15.8</td>\n",
       "      <td>19.8</td>\n",
       "      <td>1</td>\n",
       "    </tr>\n",
       "    <tr>\n",
       "      <th>8</th>\n",
       "      <td>44</td>\n",
       "      <td>0</td>\n",
       "      <td>168</td>\n",
       "      <td>56</td>\n",
       "      <td>84</td>\n",
       "      <td>118</td>\n",
       "      <td>354</td>\n",
       "      <td>160</td>\n",
       "      <td>63</td>\n",
       "      <td>61</td>\n",
       "      <td>...</td>\n",
       "      <td>0.0</td>\n",
       "      <td>7.0</td>\n",
       "      <td>-1.3</td>\n",
       "      <td>0.0</td>\n",
       "      <td>0</td>\n",
       "      <td>0.6</td>\n",
       "      <td>2.1</td>\n",
       "      <td>12.5</td>\n",
       "      <td>30.9</td>\n",
       "      <td>1</td>\n",
       "    </tr>\n",
       "    <tr>\n",
       "      <th>9</th>\n",
       "      <td>50</td>\n",
       "      <td>1</td>\n",
       "      <td>167</td>\n",
       "      <td>67</td>\n",
       "      <td>89</td>\n",
       "      <td>130</td>\n",
       "      <td>383</td>\n",
       "      <td>156</td>\n",
       "      <td>73</td>\n",
       "      <td>85</td>\n",
       "      <td>...</td>\n",
       "      <td>-0.6</td>\n",
       "      <td>10.8</td>\n",
       "      <td>-1.7</td>\n",
       "      <td>0.0</td>\n",
       "      <td>0</td>\n",
       "      <td>0.8</td>\n",
       "      <td>0.9</td>\n",
       "      <td>20.1</td>\n",
       "      <td>25.1</td>\n",
       "      <td>10</td>\n",
       "    </tr>\n",
       "  </tbody>\n",
       "</table>\n",
       "<p>10 rows × 280 columns</p>\n",
       "</div>"
      ],
      "text/plain": [
       "   Age  sex  height  weight  QRS_duration  P-R_interval  Q-T_interval  \\\n",
       "0   75    0     190      80            91           193           371   \n",
       "1   56    1     165      64            81           174           401   \n",
       "2   54    0     172      95           138           163           386   \n",
       "3   55    0     175      94           100           202           380   \n",
       "4   75    0     190      80            88           181           360   \n",
       "5   13    0     169      51           100           167           321   \n",
       "6   40    1     160      52            77           129           377   \n",
       "7   49    1     162      54            78             0           376   \n",
       "8   44    0     168      56            84           118           354   \n",
       "9   50    1     167      67            89           130           383   \n",
       "\n",
       "   T_interval  P_interval  QRS  ...  Amp_V6_Q_wave  Amp_V6_R_wave  \\\n",
       "0         174         121  -16  ...            0.0            9.0   \n",
       "1         149          39   25  ...            0.0            8.5   \n",
       "2         185         102   96  ...            0.0            9.5   \n",
       "3         179         143   28  ...            0.0           12.2   \n",
       "4         177         103  -16  ...            0.0           13.1   \n",
       "5         174          91  107  ...           -0.6           12.2   \n",
       "6         133          77   77  ...            0.0            6.5   \n",
       "7         157          70   67  ...            0.0            8.2   \n",
       "8         160          63   61  ...            0.0            7.0   \n",
       "9         156          73   85  ...           -0.6           10.8   \n",
       "\n",
       "   Amp_V6_S_wave  Amp_V6_R'_wave  Amp_V6_S'_wave  Amp_V6_P_wave  \\\n",
       "0           -0.9             0.0               0            0.9   \n",
       "1            0.0             0.0               0            0.2   \n",
       "2           -2.4             0.0               0            0.3   \n",
       "3           -2.2             0.0               0            0.4   \n",
       "4           -3.6             0.0               0           -0.1   \n",
       "5           -2.8             0.0               0            0.9   \n",
       "6            0.0             0.0               0            0.4   \n",
       "7           -1.9             0.0               0            0.1   \n",
       "8           -1.3             0.0               0            0.6   \n",
       "9           -1.7             0.0               0            0.8   \n",
       "\n",
       "   Amp_V6_T_wave  Amp_V6_QRSA  Amp_V6_QRSTA  cardiac_arrhythmia  \n",
       "0            2.9         23.3          49.4                   8  \n",
       "1            2.1         20.4          38.8                   6  \n",
       "2            3.4         12.3          49.0                  10  \n",
       "3            2.6         34.6          61.6                   1  \n",
       "4            3.9         25.4          62.8                   7  \n",
       "5            2.2         13.5          31.1                  14  \n",
       "6            1.0         14.3          20.5                   1  \n",
       "7            0.5         15.8          19.8                   1  \n",
       "8            2.1         12.5          30.9                   1  \n",
       "9            0.9         20.1          25.1                  10  \n",
       "\n",
       "[10 rows x 280 columns]"
      ]
     },
     "execution_count": 79,
     "metadata": {},
     "output_type": "execute_result"
    }
   ],
   "source": [
    "# Загрузим данные и посмотрим на небольшую часть\n",
    "data = pd.read_csv('C:\\\\Users\\\\vikto\\\\OneDrive\\\\Изображения\\\\Рабочий стол\\\\Data/cardiac_arrhythmia.csv',na_values=['?'])# header=None\n",
    "data.head(10)#Output our data\n"
   ]
  },
  {
   "cell_type": "code",
   "execution_count": 80,
   "id": "bff25d5d",
   "metadata": {},
   "outputs": [
    {
     "data": {
      "text/html": [
       "<div>\n",
       "<style scoped>\n",
       "    .dataframe tbody tr th:only-of-type {\n",
       "        vertical-align: middle;\n",
       "    }\n",
       "\n",
       "    .dataframe tbody tr th {\n",
       "        vertical-align: top;\n",
       "    }\n",
       "\n",
       "    .dataframe thead th {\n",
       "        text-align: right;\n",
       "    }\n",
       "</style>\n",
       "<table border=\"1\" class=\"dataframe\">\n",
       "  <thead>\n",
       "    <tr style=\"text-align: right;\">\n",
       "      <th></th>\n",
       "      <th>Age</th>\n",
       "      <th>sex</th>\n",
       "      <th>height</th>\n",
       "      <th>weight</th>\n",
       "      <th>QRS_duration</th>\n",
       "      <th>P-R_interval</th>\n",
       "      <th>Q-T_interval</th>\n",
       "      <th>T_interval</th>\n",
       "      <th>P_interval</th>\n",
       "      <th>QRS</th>\n",
       "      <th>...</th>\n",
       "      <th>Amp_V6_Q_wave</th>\n",
       "      <th>Amp_V6_R_wave</th>\n",
       "      <th>Amp_V6_S_wave</th>\n",
       "      <th>Amp_V6_R'_wave</th>\n",
       "      <th>Amp_V6_S'_wave</th>\n",
       "      <th>Amp_V6_P_wave</th>\n",
       "      <th>Amp_V6_T_wave</th>\n",
       "      <th>Amp_V6_QRSA</th>\n",
       "      <th>Amp_V6_QRSTA</th>\n",
       "      <th>cardiac_arrhythmia</th>\n",
       "    </tr>\n",
       "  </thead>\n",
       "  <tbody>\n",
       "    <tr>\n",
       "      <th>447</th>\n",
       "      <td>53</td>\n",
       "      <td>1</td>\n",
       "      <td>160</td>\n",
       "      <td>70</td>\n",
       "      <td>80</td>\n",
       "      <td>199</td>\n",
       "      <td>382</td>\n",
       "      <td>154</td>\n",
       "      <td>117</td>\n",
       "      <td>-37</td>\n",
       "      <td>...</td>\n",
       "      <td>0.0</td>\n",
       "      <td>4.3</td>\n",
       "      <td>-5.0</td>\n",
       "      <td>0.0</td>\n",
       "      <td>0</td>\n",
       "      <td>0.7</td>\n",
       "      <td>0.6</td>\n",
       "      <td>-4.4</td>\n",
       "      <td>-0.5</td>\n",
       "      <td>1</td>\n",
       "    </tr>\n",
       "    <tr>\n",
       "      <th>448</th>\n",
       "      <td>37</td>\n",
       "      <td>0</td>\n",
       "      <td>190</td>\n",
       "      <td>85</td>\n",
       "      <td>100</td>\n",
       "      <td>137</td>\n",
       "      <td>361</td>\n",
       "      <td>201</td>\n",
       "      <td>73</td>\n",
       "      <td>86</td>\n",
       "      <td>...</td>\n",
       "      <td>0.0</td>\n",
       "      <td>15.6</td>\n",
       "      <td>-1.6</td>\n",
       "      <td>0.0</td>\n",
       "      <td>0</td>\n",
       "      <td>0.4</td>\n",
       "      <td>2.4</td>\n",
       "      <td>38.0</td>\n",
       "      <td>62.4</td>\n",
       "      <td>10</td>\n",
       "    </tr>\n",
       "    <tr>\n",
       "      <th>449</th>\n",
       "      <td>36</td>\n",
       "      <td>0</td>\n",
       "      <td>166</td>\n",
       "      <td>68</td>\n",
       "      <td>108</td>\n",
       "      <td>176</td>\n",
       "      <td>365</td>\n",
       "      <td>194</td>\n",
       "      <td>116</td>\n",
       "      <td>-85</td>\n",
       "      <td>...</td>\n",
       "      <td>0.0</td>\n",
       "      <td>16.3</td>\n",
       "      <td>-28.6</td>\n",
       "      <td>0.0</td>\n",
       "      <td>0</td>\n",
       "      <td>1.5</td>\n",
       "      <td>1.0</td>\n",
       "      <td>-44.2</td>\n",
       "      <td>-33.2</td>\n",
       "      <td>2</td>\n",
       "    </tr>\n",
       "    <tr>\n",
       "      <th>450</th>\n",
       "      <td>32</td>\n",
       "      <td>1</td>\n",
       "      <td>155</td>\n",
       "      <td>55</td>\n",
       "      <td>93</td>\n",
       "      <td>106</td>\n",
       "      <td>386</td>\n",
       "      <td>218</td>\n",
       "      <td>63</td>\n",
       "      <td>54</td>\n",
       "      <td>...</td>\n",
       "      <td>-0.4</td>\n",
       "      <td>12.0</td>\n",
       "      <td>-0.7</td>\n",
       "      <td>0.0</td>\n",
       "      <td>0</td>\n",
       "      <td>0.5</td>\n",
       "      <td>2.4</td>\n",
       "      <td>25.0</td>\n",
       "      <td>46.6</td>\n",
       "      <td>1</td>\n",
       "    </tr>\n",
       "    <tr>\n",
       "      <th>451</th>\n",
       "      <td>78</td>\n",
       "      <td>1</td>\n",
       "      <td>160</td>\n",
       "      <td>70</td>\n",
       "      <td>79</td>\n",
       "      <td>127</td>\n",
       "      <td>364</td>\n",
       "      <td>138</td>\n",
       "      <td>78</td>\n",
       "      <td>28</td>\n",
       "      <td>...</td>\n",
       "      <td>0.0</td>\n",
       "      <td>10.4</td>\n",
       "      <td>-1.8</td>\n",
       "      <td>0.0</td>\n",
       "      <td>0</td>\n",
       "      <td>0.5</td>\n",
       "      <td>1.6</td>\n",
       "      <td>21.3</td>\n",
       "      <td>32.8</td>\n",
       "      <td>1</td>\n",
       "    </tr>\n",
       "  </tbody>\n",
       "</table>\n",
       "<p>5 rows × 280 columns</p>\n",
       "</div>"
      ],
      "text/plain": [
       "     Age  sex  height  weight  QRS_duration  P-R_interval  Q-T_interval  \\\n",
       "447   53    1     160      70            80           199           382   \n",
       "448   37    0     190      85           100           137           361   \n",
       "449   36    0     166      68           108           176           365   \n",
       "450   32    1     155      55            93           106           386   \n",
       "451   78    1     160      70            79           127           364   \n",
       "\n",
       "     T_interval  P_interval  QRS  ...  Amp_V6_Q_wave  Amp_V6_R_wave  \\\n",
       "447         154         117  -37  ...            0.0            4.3   \n",
       "448         201          73   86  ...            0.0           15.6   \n",
       "449         194         116  -85  ...            0.0           16.3   \n",
       "450         218          63   54  ...           -0.4           12.0   \n",
       "451         138          78   28  ...            0.0           10.4   \n",
       "\n",
       "     Amp_V6_S_wave  Amp_V6_R'_wave  Amp_V6_S'_wave  Amp_V6_P_wave  \\\n",
       "447           -5.0             0.0               0            0.7   \n",
       "448           -1.6             0.0               0            0.4   \n",
       "449          -28.6             0.0               0            1.5   \n",
       "450           -0.7             0.0               0            0.5   \n",
       "451           -1.8             0.0               0            0.5   \n",
       "\n",
       "     Amp_V6_T_wave  Amp_V6_QRSA  Amp_V6_QRSTA  cardiac_arrhythmia  \n",
       "447            0.6         -4.4          -0.5                   1  \n",
       "448            2.4         38.0          62.4                  10  \n",
       "449            1.0        -44.2         -33.2                   2  \n",
       "450            2.4         25.0          46.6                   1  \n",
       "451            1.6         21.3          32.8                   1  \n",
       "\n",
       "[5 rows x 280 columns]"
      ]
     },
     "execution_count": 80,
     "metadata": {},
     "output_type": "execute_result"
    }
   ],
   "source": [
    "data.tail() #Otput the end of our dataset"
   ]
  },
  {
   "cell_type": "markdown",
   "id": "3bcd1b23",
   "metadata": {},
   "source": [
    "### Listed are:\n",
    "\n",
    "- 1 Normal\n",
    "- 2 Coronary Artery Disease\n",
    "- 3 Old Anterior MI\n",
    "- 4 Old Inferior MI\n",
    "- 5 Sinus tachycardia\n",
    "- 6 Sinus bradycardia\n",
    "- 7 Premature Ventricular Contractions\n",
    "- 8 Premature Supraventricular Contractions\n",
    "- 9 Left Bundle Branch Block\n",
    "- 10 Right Bundle Branch Block\n",
    "- 11 1st degree Atrioventricular (AV) Block\n",
    "- 12 2nd degree AV Block\n",
    "- 13 3rd degree AV Block\n",
    "- 14 Left ventricular hypertrophy\n",
    "- 15 Atrial fibrillation or flutter\n",
    "- 16 All others"
   ]
  },
  {
   "cell_type": "code",
   "execution_count": 81,
   "id": "810fd764",
   "metadata": {
    "scrolled": true
   },
   "outputs": [
    {
     "data": {
      "text/plain": [
       "True"
      ]
     },
     "execution_count": 81,
     "metadata": {},
     "output_type": "execute_result"
    }
   ],
   "source": [
    "# Посмотрим на пропущенные значения\n",
    "pd.isnull(data).values.any()"
   ]
  },
  {
   "cell_type": "code",
   "execution_count": 82,
   "id": "e67610a1",
   "metadata": {},
   "outputs": [
    {
     "data": {
      "text/html": [
       "<div>\n",
       "<style scoped>\n",
       "    .dataframe tbody tr th:only-of-type {\n",
       "        vertical-align: middle;\n",
       "    }\n",
       "\n",
       "    .dataframe tbody tr th {\n",
       "        vertical-align: top;\n",
       "    }\n",
       "\n",
       "    .dataframe thead th {\n",
       "        text-align: right;\n",
       "    }\n",
       "</style>\n",
       "<table border=\"1\" class=\"dataframe\">\n",
       "  <thead>\n",
       "    <tr style=\"text-align: right;\">\n",
       "      <th></th>\n",
       "      <th>Age</th>\n",
       "      <th>sex</th>\n",
       "      <th>height</th>\n",
       "      <th>weight</th>\n",
       "      <th>QRS_duration</th>\n",
       "      <th>P-R_interval</th>\n",
       "      <th>Q-T_interval</th>\n",
       "      <th>T_interval</th>\n",
       "      <th>P_interval</th>\n",
       "      <th>QRS</th>\n",
       "      <th>...</th>\n",
       "      <th>Amp_V6_Q_wave</th>\n",
       "      <th>Amp_V6_R_wave</th>\n",
       "      <th>Amp_V6_S_wave</th>\n",
       "      <th>Amp_V6_R'_wave</th>\n",
       "      <th>Amp_V6_S'_wave</th>\n",
       "      <th>Amp_V6_P_wave</th>\n",
       "      <th>Amp_V6_T_wave</th>\n",
       "      <th>Amp_V6_QRSA</th>\n",
       "      <th>Amp_V6_QRSTA</th>\n",
       "      <th>cardiac_arrhythmia</th>\n",
       "    </tr>\n",
       "  </thead>\n",
       "  <tbody>\n",
       "    <tr>\n",
       "      <th>count</th>\n",
       "      <td>452.000000</td>\n",
       "      <td>452.000000</td>\n",
       "      <td>452.000000</td>\n",
       "      <td>452.000000</td>\n",
       "      <td>452.000000</td>\n",
       "      <td>452.000000</td>\n",
       "      <td>452.000000</td>\n",
       "      <td>452.000000</td>\n",
       "      <td>452.000000</td>\n",
       "      <td>452.000000</td>\n",
       "      <td>...</td>\n",
       "      <td>452.000000</td>\n",
       "      <td>452.000000</td>\n",
       "      <td>452.000000</td>\n",
       "      <td>452.000000</td>\n",
       "      <td>452.0</td>\n",
       "      <td>452.000000</td>\n",
       "      <td>452.000000</td>\n",
       "      <td>452.000000</td>\n",
       "      <td>452.000000</td>\n",
       "      <td>452.000000</td>\n",
       "    </tr>\n",
       "    <tr>\n",
       "      <th>mean</th>\n",
       "      <td>46.471239</td>\n",
       "      <td>0.550885</td>\n",
       "      <td>166.188053</td>\n",
       "      <td>68.170354</td>\n",
       "      <td>88.920354</td>\n",
       "      <td>155.152655</td>\n",
       "      <td>367.207965</td>\n",
       "      <td>169.949115</td>\n",
       "      <td>90.004425</td>\n",
       "      <td>33.676991</td>\n",
       "      <td>...</td>\n",
       "      <td>-0.278982</td>\n",
       "      <td>9.048009</td>\n",
       "      <td>-1.457301</td>\n",
       "      <td>0.003982</td>\n",
       "      <td>0.0</td>\n",
       "      <td>0.514823</td>\n",
       "      <td>1.222345</td>\n",
       "      <td>19.326106</td>\n",
       "      <td>29.473230</td>\n",
       "      <td>3.880531</td>\n",
       "    </tr>\n",
       "    <tr>\n",
       "      <th>std</th>\n",
       "      <td>16.466631</td>\n",
       "      <td>0.497955</td>\n",
       "      <td>37.170340</td>\n",
       "      <td>16.590803</td>\n",
       "      <td>15.364394</td>\n",
       "      <td>44.842283</td>\n",
       "      <td>33.385421</td>\n",
       "      <td>35.633072</td>\n",
       "      <td>25.826643</td>\n",
       "      <td>45.431434</td>\n",
       "      <td>...</td>\n",
       "      <td>0.548876</td>\n",
       "      <td>3.472862</td>\n",
       "      <td>2.002430</td>\n",
       "      <td>0.050118</td>\n",
       "      <td>0.0</td>\n",
       "      <td>0.347531</td>\n",
       "      <td>1.426052</td>\n",
       "      <td>13.503922</td>\n",
       "      <td>18.493927</td>\n",
       "      <td>4.407097</td>\n",
       "    </tr>\n",
       "    <tr>\n",
       "      <th>min</th>\n",
       "      <td>0.000000</td>\n",
       "      <td>0.000000</td>\n",
       "      <td>105.000000</td>\n",
       "      <td>6.000000</td>\n",
       "      <td>55.000000</td>\n",
       "      <td>0.000000</td>\n",
       "      <td>232.000000</td>\n",
       "      <td>108.000000</td>\n",
       "      <td>0.000000</td>\n",
       "      <td>-172.000000</td>\n",
       "      <td>...</td>\n",
       "      <td>-4.100000</td>\n",
       "      <td>0.000000</td>\n",
       "      <td>-28.600000</td>\n",
       "      <td>0.000000</td>\n",
       "      <td>0.0</td>\n",
       "      <td>-0.800000</td>\n",
       "      <td>-6.000000</td>\n",
       "      <td>-44.200000</td>\n",
       "      <td>-38.600000</td>\n",
       "      <td>1.000000</td>\n",
       "    </tr>\n",
       "    <tr>\n",
       "      <th>25%</th>\n",
       "      <td>36.000000</td>\n",
       "      <td>0.000000</td>\n",
       "      <td>160.000000</td>\n",
       "      <td>59.000000</td>\n",
       "      <td>80.000000</td>\n",
       "      <td>142.000000</td>\n",
       "      <td>350.000000</td>\n",
       "      <td>148.000000</td>\n",
       "      <td>79.000000</td>\n",
       "      <td>3.750000</td>\n",
       "      <td>...</td>\n",
       "      <td>-0.425000</td>\n",
       "      <td>6.600000</td>\n",
       "      <td>-2.100000</td>\n",
       "      <td>0.000000</td>\n",
       "      <td>0.0</td>\n",
       "      <td>0.400000</td>\n",
       "      <td>0.500000</td>\n",
       "      <td>11.450000</td>\n",
       "      <td>17.550000</td>\n",
       "      <td>1.000000</td>\n",
       "    </tr>\n",
       "    <tr>\n",
       "      <th>50%</th>\n",
       "      <td>47.000000</td>\n",
       "      <td>1.000000</td>\n",
       "      <td>164.000000</td>\n",
       "      <td>68.000000</td>\n",
       "      <td>86.000000</td>\n",
       "      <td>157.000000</td>\n",
       "      <td>367.000000</td>\n",
       "      <td>162.000000</td>\n",
       "      <td>91.000000</td>\n",
       "      <td>40.000000</td>\n",
       "      <td>...</td>\n",
       "      <td>0.000000</td>\n",
       "      <td>8.800000</td>\n",
       "      <td>-1.100000</td>\n",
       "      <td>0.000000</td>\n",
       "      <td>0.0</td>\n",
       "      <td>0.500000</td>\n",
       "      <td>1.350000</td>\n",
       "      <td>18.100000</td>\n",
       "      <td>27.900000</td>\n",
       "      <td>1.000000</td>\n",
       "    </tr>\n",
       "    <tr>\n",
       "      <th>75%</th>\n",
       "      <td>58.000000</td>\n",
       "      <td>1.000000</td>\n",
       "      <td>170.000000</td>\n",
       "      <td>79.000000</td>\n",
       "      <td>94.000000</td>\n",
       "      <td>175.000000</td>\n",
       "      <td>384.000000</td>\n",
       "      <td>179.000000</td>\n",
       "      <td>102.000000</td>\n",
       "      <td>66.000000</td>\n",
       "      <td>...</td>\n",
       "      <td>0.000000</td>\n",
       "      <td>11.200000</td>\n",
       "      <td>0.000000</td>\n",
       "      <td>0.000000</td>\n",
       "      <td>0.0</td>\n",
       "      <td>0.700000</td>\n",
       "      <td>2.100000</td>\n",
       "      <td>25.825000</td>\n",
       "      <td>41.125000</td>\n",
       "      <td>6.000000</td>\n",
       "    </tr>\n",
       "    <tr>\n",
       "      <th>max</th>\n",
       "      <td>83.000000</td>\n",
       "      <td>1.000000</td>\n",
       "      <td>780.000000</td>\n",
       "      <td>176.000000</td>\n",
       "      <td>188.000000</td>\n",
       "      <td>524.000000</td>\n",
       "      <td>509.000000</td>\n",
       "      <td>381.000000</td>\n",
       "      <td>205.000000</td>\n",
       "      <td>169.000000</td>\n",
       "      <td>...</td>\n",
       "      <td>0.000000</td>\n",
       "      <td>23.600000</td>\n",
       "      <td>0.000000</td>\n",
       "      <td>0.800000</td>\n",
       "      <td>0.0</td>\n",
       "      <td>2.400000</td>\n",
       "      <td>6.000000</td>\n",
       "      <td>88.800000</td>\n",
       "      <td>115.900000</td>\n",
       "      <td>16.000000</td>\n",
       "    </tr>\n",
       "  </tbody>\n",
       "</table>\n",
       "<p>8 rows × 280 columns</p>\n",
       "</div>"
      ],
      "text/plain": [
       "              Age         sex      height      weight  QRS_duration  \\\n",
       "count  452.000000  452.000000  452.000000  452.000000    452.000000   \n",
       "mean    46.471239    0.550885  166.188053   68.170354     88.920354   \n",
       "std     16.466631    0.497955   37.170340   16.590803     15.364394   \n",
       "min      0.000000    0.000000  105.000000    6.000000     55.000000   \n",
       "25%     36.000000    0.000000  160.000000   59.000000     80.000000   \n",
       "50%     47.000000    1.000000  164.000000   68.000000     86.000000   \n",
       "75%     58.000000    1.000000  170.000000   79.000000     94.000000   \n",
       "max     83.000000    1.000000  780.000000  176.000000    188.000000   \n",
       "\n",
       "       P-R_interval  Q-T_interval  T_interval  P_interval         QRS  ...  \\\n",
       "count    452.000000    452.000000  452.000000  452.000000  452.000000  ...   \n",
       "mean     155.152655    367.207965  169.949115   90.004425   33.676991  ...   \n",
       "std       44.842283     33.385421   35.633072   25.826643   45.431434  ...   \n",
       "min        0.000000    232.000000  108.000000    0.000000 -172.000000  ...   \n",
       "25%      142.000000    350.000000  148.000000   79.000000    3.750000  ...   \n",
       "50%      157.000000    367.000000  162.000000   91.000000   40.000000  ...   \n",
       "75%      175.000000    384.000000  179.000000  102.000000   66.000000  ...   \n",
       "max      524.000000    509.000000  381.000000  205.000000  169.000000  ...   \n",
       "\n",
       "       Amp_V6_Q_wave  Amp_V6_R_wave  Amp_V6_S_wave  Amp_V6_R'_wave  \\\n",
       "count     452.000000     452.000000     452.000000      452.000000   \n",
       "mean       -0.278982       9.048009      -1.457301        0.003982   \n",
       "std         0.548876       3.472862       2.002430        0.050118   \n",
       "min        -4.100000       0.000000     -28.600000        0.000000   \n",
       "25%        -0.425000       6.600000      -2.100000        0.000000   \n",
       "50%         0.000000       8.800000      -1.100000        0.000000   \n",
       "75%         0.000000      11.200000       0.000000        0.000000   \n",
       "max         0.000000      23.600000       0.000000        0.800000   \n",
       "\n",
       "       Amp_V6_S'_wave  Amp_V6_P_wave  Amp_V6_T_wave  Amp_V6_QRSA  \\\n",
       "count           452.0     452.000000     452.000000   452.000000   \n",
       "mean              0.0       0.514823       1.222345    19.326106   \n",
       "std               0.0       0.347531       1.426052    13.503922   \n",
       "min               0.0      -0.800000      -6.000000   -44.200000   \n",
       "25%               0.0       0.400000       0.500000    11.450000   \n",
       "50%               0.0       0.500000       1.350000    18.100000   \n",
       "75%               0.0       0.700000       2.100000    25.825000   \n",
       "max               0.0       2.400000       6.000000    88.800000   \n",
       "\n",
       "       Amp_V6_QRSTA  cardiac_arrhythmia  \n",
       "count    452.000000          452.000000  \n",
       "mean      29.473230            3.880531  \n",
       "std       18.493927            4.407097  \n",
       "min      -38.600000            1.000000  \n",
       "25%       17.550000            1.000000  \n",
       "50%       27.900000            1.000000  \n",
       "75%       41.125000            6.000000  \n",
       "max      115.900000           16.000000  \n",
       "\n",
       "[8 rows x 280 columns]"
      ]
     },
     "execution_count": 82,
     "metadata": {},
     "output_type": "execute_result"
    }
   ],
   "source": [
    "data.describe()"
   ]
  },
  {
   "cell_type": "code",
   "execution_count": 229,
   "id": "595030e1",
   "metadata": {
    "scrolled": true
   },
   "outputs": [
    {
     "data": {
      "image/png": "[encoded data removed]",
      "text/plain": [
       "<Figure size 1080x288 with 1 Axes>"
      ]
     },
     "metadata": {
      "needs_background": "light"
     },
     "output_type": "display_data"
    }
   ],
   "source": [
    "#Arrythmia Types\n",
    "plt.figure(figsize=(15,4))\n",
    "plt.hist(data.cardiac_arrhythmia, bins=50, color='navy')\n",
    "plt.xlabel('Arrhythmia Type')\n",
    "plt.ylabel('Counts')\n",
    "plt.show()"
   ]
  },
  {
   "cell_type": "markdown",
   "id": "c864cb57",
   "metadata": {},
   "source": [
    "## Разделение на train/test\n",
    "\n",
    "После того, как мы обучили нашу модель нам нужно как-то понять, насколько она хорошо работает. Выше мы уже говорили про переобучение на данные, с которыми сеть обучалась. Из-за такого переобучения мы не сможем посчитать адекватно узнать точность предсказаний, если проверим точность на тех же данных, на которых обучались. Чтобы с этим бороться обучающую выборку обычно делят на две части train и test. На первой мы будем обучать модель, а на второй проверять, насколько хорошо модель работает. Размер тестовой выборки в 30-40% - неплохой выбор.\n",
    "\n",
    "Иногда данных слишком мало, чтобы жертвовать ими на тестовую часть. Тогда применяется метод, который называет cross validation. Мы посмотрим на то, как он работает в секции про оценку модели."
   ]
  },
  {
   "cell_type": "code",
   "execution_count": 84,
   "id": "af0ee8d9",
   "metadata": {},
   "outputs": [],
   "source": [
    "Data_Y = data.cardiac_arrhythmia.values.ravel()\n"
   ]
  },
  {
   "cell_type": "code",
   "execution_count": 85,
   "id": "f82c49cf",
   "metadata": {},
   "outputs": [],
   "source": [
    "Data_X=data.drop('cardiac_arrhythmia', 1)"
   ]
  },
  {
   "cell_type": "code",
   "execution_count": 86,
   "id": "87c4cbd4",
   "metadata": {},
   "outputs": [
    {
     "data": {
      "text/plain": [
       "Age               0\n",
       "sex               0\n",
       "height            0\n",
       "weight            0\n",
       "QRS_duration      0\n",
       "                 ..\n",
       "Amp_V6_S'_wave    0\n",
       "Amp_V6_P_wave     0\n",
       "Amp_V6_T_wave     0\n",
       "Amp_V6_QRSA       0\n",
       "Amp_V6_QRSTA      0\n",
       "Length: 279, dtype: int64"
      ]
     },
     "execution_count": 86,
     "metadata": {},
     "output_type": "execute_result"
    }
   ],
   "source": [
    "from sklearn.model_selection import train_test_split\n",
    "from sklearn.impute import SimpleImputer\n",
    "import numpy as np\n",
    "\n",
    "z=SimpleImputer(missing_values=np.nan, strategy='mean').fit_transform(Data_X)\n",
    "Data_X = pd.DataFrame(data=z,columns=Data_X.columns.values)\n",
    "Data_X.isnull().sum()"
   ]
  },
  {
   "cell_type": "code",
   "execution_count": 92,
   "id": "2e00c576",
   "metadata": {},
   "outputs": [
    {
     "name": "stdout",
     "output_type": "stream",
     "text": [
      "Shape of train (339, 279), shape of test (113, 279)\n"
     ]
    }
   ],
   "source": [
    "#As there are many outliers in the dataset, let's impute the missing observations using the 'mean'\n",
    "X_train, X_test, y_train, y_test = train_test_split(Data_X, Data_Y, test_size=0.25, random_state=4)"
   ]
  },
  {
   "cell_type": "markdown",
   "id": "fb4ce713",
   "metadata": {},
   "source": [
    "### Масштабирование признаков\n",
    "\n",
    "Часто необходимо привести все признаки к одному масштабу. Для этого в sklearn есть специальный Transformer -- StandardScaler и MinMaxScaler.\n",
    "\n",
    "StandardScaler во время .fit() для каждого признака $x_i$ считает среднее $\\mu_i$ и стандартное отклонение $\\sigma_i$ на обучающем датасете. Во время .transform() к каждому признаку применяется:\n",
    "\n",
    "$$\\mathbf{x_i}^{\\text{new}} = \\frac{\\mathbf{x_i} - \\mu_i}{\\sigma_i}$$\n",
    "\n",
    "\n",
    "MinMaxScaler во время .fit() для каждого признака $x_i$ считает минимум $x_{i, \\text{min}}$ и максимум $x_{i, \\text{max}}$ на обучающем датасете. Во время .transform() к каждому признаку применяется:\n",
    "\n",
    "$$\\mathbf{x_i}^{\\text{new}} = \\frac{\\mathbf{x_i} - x_{i, \\text{min}}}{x_{i, \\text{max}} - x_{i, \\text{min}}}$$\n",
    "\n",
    "(Взято из обучающих видео(ссылок) на ютубе)"
   ]
  },
  {
   "cell_type": "code",
   "execution_count": 97,
   "id": "17c5b789",
   "metadata": {
    "scrolled": false
   },
   "outputs": [],
   "source": [
    "from sklearn.preprocessing import MinMaxScaler\n",
    "\n",
    "MinMax = MinMaxScaler(feature_range= (0,1))\n",
    "X_train = MinMax.fit_transform(X_train)\n",
    "X_test = MinMax.fit_transform(X_test)"
   ]
  },
  {
   "cell_type": "markdown",
   "id": "53ec138a",
   "metadata": {},
   "source": [
    "## Обучение\n",
    "\n",
    "Самый хороший способ - попробовать максимум разных алгоритмов, посмотреть, какой из них лучше справляется и уже по метрикам выбрать лучший \n",
    "\n",
    "## Метрики \n",
    "\n",
    "Метрика это, так же как и функция потерь, какая-то функция, показывающая насколько хорошо работает наша модель. Например, любой лосс можно назвать метрикой. Но не любую метрику можно назвать лоссом: лосс это именно то число, которое мы уменьшаем в процессе обучения модели + для лосса всегда верно, что чем он меньше, тем лучше. Метрики нужны как раз для того, чтобы оценивать работу алгоритма с помощью числа, которое он не учился напрямую минимизировать.\n",
    "\n",
    "Для классификации наиболее простой метрикой будет являться точность или accuracy (доля совпавших предсказаний и настоящих классов). Она никогда не используется внутри лоссов, потому что нет эффективного алгоритма, который бы позволил ее обучать модели с такой функцией потерь.\n",
    "\n",
    "В данном случае у нас задача регрессии, поэтому мы используем две метрики MSE и R_squared. \n",
    "\n",
    "$$R^2 = 1 - \\frac{\\sum_{i=1}^{n} (y^i - y_{pred}^i)^2}{\\sum_{i=1}^{n} (y^i - y_{mean})^2}$$\n",
    "\n",
    "R_aquared это доля объясненной вариации. R_squared = 1, когда у нас есть идеальный предсказатель. R_squared = 0 достигает модель, которая просто выдает в качестве ответа среднее Значение целевой переменной. А значения меньше 0 говорят о том, что модель хуже константного предсказателя."
   ]
  },
  {
   "cell_type": "markdown",
   "id": "868c0b95",
   "metadata": {},
   "source": [
    "#### KNN"
   ]
  },
  {
   "cell_type": "code",
   "execution_count": 123,
   "id": "21239158",
   "metadata": {},
   "outputs": [],
   "source": [
    "from sklearn.neighbors import KNeighborsClassifier\n",
    "from sklearn.model_selection import cross_val_score\n",
    "from sklearn.model_selection import GridSearchCV"
   ]
  },
  {
   "cell_type": "code",
   "execution_count": 153,
   "id": "e9d40ad4",
   "metadata": {},
   "outputs": [
    {
     "name": "stdout",
     "output_type": "stream",
     "text": [
      "Fitting 3 folds for each of 5 candidates, totalling 15 fits\n",
      "Best parameters: {'n_neighbors': 3}\n",
      "Best cross-validation score: 0.59\n"
     ]
    }
   ],
   "source": [
    "grid_parms_knn = {'n_neighbors':[1,3,5,10,15]}\n",
    "knn = KNeighborsClassifier()\n",
    "grid_search = GridSearchCV(KNeighborsClassifier(), grid_parms_knn,verbose = 1,cv = 3, n_jobs=-1)\n",
    "grid_search.fit(X_train, y_train)\n",
    "print(\"Best parameters: {}\".format(grid_search.best_params_))\n",
    "print(\"Best cross-validation score: {:.7f}\".format(grid_search.best_score_))\n",
    "#X_train, X_test, y_train, y_test"
   ]
  },
  {
   "cell_type": "code",
   "execution_count": 247,
   "id": "2afd585a",
   "metadata": {},
   "outputs": [
    {
     "name": "stdout",
     "output_type": "stream",
     "text": [
      "[[58  1  0  0  0  0  0  0  0  0]\n",
      " [10  1  0  2  0  0  0  1  0  0]\n",
      " [ 0  0  2  0  0  0  0  0  0  0]\n",
      " [ 3  0  0  2  0  0  0  0  0  0]\n",
      " [ 3  0  0  0  0  0  0  0  0  0]\n",
      " [ 8  1  0  0  0  0  0  0  0  0]\n",
      " [ 1  0  0  0  0  0  1  0  0  0]\n",
      " [ 9  0  0  0  0  0  0  2  0  0]\n",
      " [ 2  0  0  0  0  0  0  0  0  0]\n",
      " [ 4  0  0  0  0  1  0  1  0  0]]\n"
     ]
    }
   ],
   "source": [
    "from sklearn.metrics import confusion_matrix\n",
    "KNN_best = KNeighborsClassifier(n_neighbors=3).fit(X_train, y_train)\n",
    "KNN_predicted = KNN_best.predict(X_test)\n",
    "confusion = confusion_matrix(y_test, KNN_predicted)\n",
    "\n",
    "print( confusion)"
   ]
  },
  {
   "cell_type": "code",
   "execution_count": 156,
   "id": "2fa15300",
   "metadata": {
    "scrolled": true
   },
   "outputs": [
    {
     "name": "stdout",
     "output_type": "stream",
     "text": [
      "              precision    recall  f1-score   support\n",
      "\n",
      "           1       0.59      0.98      0.74        59\n",
      "           2       0.33      0.07      0.12        14\n",
      "           3       1.00      1.00      1.00         2\n",
      "           4       0.50      0.40      0.44         5\n",
      "           5       0.00      0.00      0.00         3\n",
      "           6       0.00      0.00      0.00         9\n",
      "           9       1.00      0.50      0.67         2\n",
      "          10       0.50      0.18      0.27        11\n",
      "          14       0.00      0.00      0.00         2\n",
      "          16       0.00      0.00      0.00         6\n",
      "\n",
      "    accuracy                           0.58       113\n",
      "   macro avg       0.39      0.31      0.32       113\n",
      "weighted avg       0.46      0.58      0.48       113\n",
      "\n"
     ]
    }
   ],
   "source": [
    "from sklearn.metrics import classification_report\n",
    "print(classification_report(y_test, KNN_predicted))"
   ]
  },
  {
   "cell_type": "code",
   "execution_count": 190,
   "id": "bf0483c4",
   "metadata": {},
   "outputs": [
    {
     "name": "stdout",
     "output_type": "stream",
     "text": [
      "Cross validation scores: [0.60294118 0.60294118 0.60294118 0.61764706 0.56716418]\n"
     ]
    }
   ],
   "source": [
    "scores = cross_val_score(knn,X_train,y_train, cv=5)\n",
    "print(\"Cross validation scores: {}\".format(scores))\n"
   ]
  },
  {
   "cell_type": "code",
   "execution_count": 191,
   "id": "6d6d112d",
   "metadata": {},
   "outputs": [
    {
     "name": "stdout",
     "output_type": "stream",
     "text": [
      "Average cross-validation score: 0.5987270\n"
     ]
    }
   ],
   "source": [
    "print(\"Average cross-validation score: {:.7f}\".format(scores.mean()))"
   ]
  },
  {
   "cell_type": "code",
   "execution_count": 367,
   "id": "7e1bfbe1",
   "metadata": {},
   "outputs": [
    {
     "name": "stdout",
     "output_type": "stream",
     "text": [
      "Train score: 0.72\n"
     ]
    }
   ],
   "source": [
    "from sklearn.ensemble import BaggingClassifier\n",
    "\n",
    "bag_knn = BaggingClassifier(KNN_best, n_estimators=100, max_samples=1.0, bootstrap=True, n_jobs=-1, random_state=10)\n",
    "\n",
    "bag_knn.fit(X_train, y_train)\n",
    "\n",
    "print('Train score: {0:0.2f}'.format(bag_knn.score(X_train,y_train)))\n"
   ]
  },
  {
   "cell_type": "code",
   "execution_count": 375,
   "id": "2862ce39",
   "metadata": {},
   "outputs": [
    {
     "name": "stdout",
     "output_type": "stream",
     "text": [
      "Train score: 0.6784661\n",
      "Test score: 0.5840708\n"
     ]
    }
   ],
   "source": [
    "past_knn = BaggingClassifier(KNN_best, n_estimators=100, max_samples=1.0, bootstrap=False, n_jobs=-1, random_state=10)\n",
    "\n",
    "past_knn.fit(X_train, y_train)\n",
    "\n",
    "print('Train score: {0:0.7f}'.format(past_knn.score(X_train,y_train)))\n",
    "print('Test score: {0:0.7f}'.format(past_knn.score(X_test,y_test)))\n",
    "#Не добавляется ни уменьшенная, ни улучшенная оценка теста или оценка тренировки по сравнению с исходным классификатором KNN"
   ]
  },
  {
   "cell_type": "code",
   "execution_count": 366,
   "id": "7d6c7119",
   "metadata": {},
   "outputs": [
    {
     "name": "stdout",
     "output_type": "stream",
     "text": [
      "Test score: 0.58\n"
     ]
    }
   ],
   "source": [
    "print('Test score: {0:0.2f}'.format(bag_knn.score(X_test,y_test)))"
   ]
  },
  {
   "cell_type": "markdown",
   "id": "03e1aa6f",
   "metadata": {},
   "source": [
    "[Link](https://medium.com/@kennymiyasato/classification-report-precision-recall-f1-score-accuracy-16a245a437a5)"
   ]
  },
  {
   "cell_type": "markdown",
   "id": "1ab3bac3",
   "metadata": {},
   "source": [
    "#### Logistic Regression"
   ]
  },
  {
   "cell_type": "code",
   "execution_count": 224,
   "id": "851b5305",
   "metadata": {},
   "outputs": [
    {
     "data": {
      "text/plain": [
       "GridSearchCV(cv=5, estimator=LogisticRegression(),\n",
       "             param_grid={'C': [0.001, 0.1, 2, 10]})"
      ]
     },
     "execution_count": 224,
     "metadata": {},
     "output_type": "execute_result"
    }
   ],
   "source": [
    "from sklearn.linear_model import LogisticRegression\n",
    "logit = LogisticRegression()\n",
    "param_grid = {'C': [ 0.001, 0.1,2, 10] }\n",
    "\n",
    "grid_search_log = GridSearchCV(LogisticRegression(penalty='l2'), param_grid, cv=5)\n",
    "grid_search_log.fit(X_train, y_train)"
   ]
  },
  {
   "cell_type": "code",
   "execution_count": 225,
   "id": "fa4e19ef",
   "metadata": {},
   "outputs": [
    {
     "name": "stdout",
     "output_type": "stream",
     "text": [
      "Best parameters of loghistics regression: {'C': 2}\n"
     ]
    }
   ],
   "source": [
    "print(\"Best parameters of loghistics regression: {}\".format(grid_search_log.best_params_))"
   ]
  },
  {
   "cell_type": "code",
   "execution_count": 226,
   "id": "c3941a58",
   "metadata": {},
   "outputs": [
    {
     "name": "stdout",
     "output_type": "stream",
     "text": [
      "Cross validation scores: [0.63235294 0.69117647 0.70588235 0.76470588 0.74626866]\n"
     ]
    }
   ],
   "source": [
    "scores = cross_val_score(logit,X_train,y_train, cv=5)\n",
    "print(\"Cross validation scores: {}\".format(scores))"
   ]
  },
  {
   "cell_type": "code",
   "execution_count": 219,
   "id": "27f135b1",
   "metadata": {},
   "outputs": [
    {
     "name": "stdout",
     "output_type": "stream",
     "text": [
      "Average cross-validation score: 0.7080773\n"
     ]
    }
   ],
   "source": [
    "print(\"Average cross-validation score: {:.7f}\".format(scores.mean()))"
   ]
  },
  {
   "cell_type": "code",
   "execution_count": 205,
   "id": "000f3bc3",
   "metadata": {},
   "outputs": [
    {
     "name": "stdout",
     "output_type": "stream",
     "text": [
      "Accuracy of logistic regression on training set: 0.9026549\n"
     ]
    }
   ],
   "source": [
    "print('Accuracy of logistic regression on training set: {:.7f}'.format(grid_search_log.score(X_train, y_train)))\n"
   ]
  },
  {
   "cell_type": "code",
   "execution_count": 209,
   "id": "e92e7f4a",
   "metadata": {},
   "outputs": [
    {
     "name": "stdout",
     "output_type": "stream",
     "text": [
      "Accuracy of logistic regression on test set: 0.6283186\n"
     ]
    }
   ],
   "source": [
    "print('Accuracy of logistic regression on test set: {:.7f}'.format((grid_search_log.score(X_test, y_test))))"
   ]
  },
  {
   "cell_type": "code",
   "execution_count": 246,
   "id": "470dbc85",
   "metadata": {},
   "outputs": [
    {
     "name": "stdout",
     "output_type": "stream",
     "text": [
      "[[51  1  0  0  0  0  0  5  0  0  2]\n",
      " [ 5  4  0  1  0  0  0  3  0  0  1]\n",
      " [ 0  0  2  0  0  0  0  0  0  0  0]\n",
      " [ 1  0  0  4  0  0  0  0  0  0  0]\n",
      " [ 3  0  0  0  0  0  0  0  0  0  0]\n",
      " [ 7  0  0  0  0  0  0  2  0  0  0]\n",
      " [ 0  0  0  0  0  0  2  0  0  0  0]\n",
      " [ 4  0  0  0  0  0  0  7  0  0  0]\n",
      " [ 0  1  0  0  0  0  0  0  1  0  0]\n",
      " [ 0  0  0  0  0  0  0  0  0  0  0]\n",
      " [ 1  0  0  1  0  0  1  2  0  1  0]]\n"
     ]
    }
   ],
   "source": [
    "from sklearn.metrics import confusion_matrix\n",
    "logit_best = LogisticRegression(C=2).fit(X_train, y_train)\n",
    "logit_predicted = logit_best.predict(X_test)\n",
    "confusion = confusion_matrix(y_test, logit_predicted)\n",
    "print(confusion)"
   ]
  },
  {
   "cell_type": "code",
   "execution_count": 227,
   "id": "af25b7ef",
   "metadata": {},
   "outputs": [
    {
     "name": "stdout",
     "output_type": "stream",
     "text": [
      "              precision    recall  f1-score   support\n",
      "\n",
      "           1       0.71      0.86      0.78        59\n",
      "           2       0.67      0.29      0.40        14\n",
      "           3       1.00      1.00      1.00         2\n",
      "           4       0.67      0.80      0.73         5\n",
      "           5       0.00      0.00      0.00         3\n",
      "           6       0.00      0.00      0.00         9\n",
      "           9       0.67      1.00      0.80         2\n",
      "          10       0.37      0.64      0.47        11\n",
      "          14       1.00      0.50      0.67         2\n",
      "          15       0.00      0.00      0.00         0\n",
      "          16       0.00      0.00      0.00         6\n",
      "\n",
      "    accuracy                           0.63       113\n",
      "   macro avg       0.46      0.46      0.44       113\n",
      "weighted avg       0.56      0.63      0.58       113\n",
      "\n"
     ]
    }
   ],
   "source": [
    "from sklearn.metrics import classification_report\n",
    "print(classification_report(y_test, logit_predicted))"
   ]
  },
  {
   "cell_type": "code",
   "execution_count": 361,
   "id": "ef2b0bf5",
   "metadata": {},
   "outputs": [
    {
     "name": "stdout",
     "output_type": "stream",
     "text": [
      "Train score: 0.87\n"
     ]
    }
   ],
   "source": [
    "from sklearn.ensemble import BaggingClassifier\n",
    "\n",
    "bag_logit = BaggingClassifier(logit_best, n_estimators=100, max_samples=1.0, bootstrap=True, n_jobs=-1, random_state=10)\n",
    "\n",
    "bag_logit.fit(X_train, y_train)\n",
    "\n",
    "print('Train score: {0:0.2f}'.format(bag_logit.score(X_train,y_train)))\n"
   ]
  },
  {
   "cell_type": "code",
   "execution_count": 362,
   "id": "4a1eb84a",
   "metadata": {},
   "outputs": [
    {
     "name": "stdout",
     "output_type": "stream",
     "text": [
      "Test score: 0.62\n"
     ]
    }
   ],
   "source": [
    "print('Test score: {0:0.2f}'.format(bag_logit.score(X_test,y_test)))"
   ]
  },
  {
   "cell_type": "markdown",
   "id": "7921ba11",
   "metadata": {},
   "source": [
    "#### Decision Tree Classifier"
   ]
  },
  {
   "cell_type": "code",
   "execution_count": 293,
   "id": "4ced5446",
   "metadata": {},
   "outputs": [
    {
     "data": {
      "text/plain": [
       "GridSearchCV(cv=5, estimator=DecisionTreeClassifier(),\n",
       "             param_grid={'max_depth': [5, 10, 12, 18, 20]},\n",
       "             return_train_score=True)"
      ]
     },
     "execution_count": 293,
     "metadata": {},
     "output_type": "execute_result"
    }
   ],
   "source": [
    "from sklearn.tree import DecisionTreeClassifier\n",
    "\n",
    "dt_clf = DecisionTreeClassifier()\n",
    "param_grid = {'max_depth': [5, 10,12, 18, 20]}\n",
    "\n",
    "grid_search = GridSearchCV(dt_clf, param_grid, cv = 5, return_train_score=True)\n",
    "grid_search.fit(X_train, y_train)"
   ]
  },
  {
   "cell_type": "code",
   "execution_count": 294,
   "id": "30cef799",
   "metadata": {},
   "outputs": [
    {
     "name": "stdout",
     "output_type": "stream",
     "text": [
      "Best parameters: {'max_depth': 10}\n"
     ]
    }
   ],
   "source": [
    "print(\"Best parameters: {}\".format(grid_search.best_params_))"
   ]
  },
  {
   "cell_type": "code",
   "execution_count": 295,
   "id": "d3fd56cc",
   "metadata": {},
   "outputs": [
    {
     "name": "stdout",
     "output_type": "stream",
     "text": [
      "Cross validation scores: [0.60294118 0.63235294 0.77941176 0.69117647 0.65671642]\n"
     ]
    }
   ],
   "source": [
    "scores = cross_val_score(dt_clf,X_train,y_train, cv=5)\n",
    "print(\"Cross validation scores: {}\".format(scores))"
   ]
  },
  {
   "cell_type": "code",
   "execution_count": 296,
   "id": "87b1fabb",
   "metadata": {},
   "outputs": [
    {
     "name": "stdout",
     "output_type": "stream",
     "text": [
      "[[28  2  0  0 20  0  4  3  0  2]\n",
      " [ 4  5  0  1  2  0  0  2  0  0]\n",
      " [ 0  0  1  0  0  0  0  0  0  1]\n",
      " [ 0  0  0  2  2  0  1  0  0  0]\n",
      " [ 0  0  0  0  3  0  0  0  0  0]\n",
      " [ 7  0  1  1  0  0  0  0  0  0]\n",
      " [ 0  0  0  0  0  0  2  0  0  0]\n",
      " [ 2  0  0  0  1  0  0  8  0  0]\n",
      " [ 0  0  0  0  1  0  1  0  0  0]\n",
      " [ 3  0  0  0  0  0  0  1  1  1]]\n"
     ]
    }
   ],
   "source": [
    "from sklearn.metrics import confusion_matrix\n",
    "dt_clf_best = DecisionTreeClassifier(max_depth = 12).fit(X_train, y_train)\n",
    "dt_predicted = dt_clf_best.predict(X_test)\n",
    "confusion = confusion_matrix(y_test, dt_predicted)\n",
    "\n",
    "print(confusion)"
   ]
  },
  {
   "cell_type": "code",
   "execution_count": 297,
   "id": "6eb0e2bf",
   "metadata": {},
   "outputs": [
    {
     "name": "stdout",
     "output_type": "stream",
     "text": [
      "Average cross-validation score: 0.6725198\n"
     ]
    }
   ],
   "source": [
    "print(\"Average cross-validation score: {:.7f}\".format(scores.mean()))"
   ]
  },
  {
   "cell_type": "code",
   "execution_count": 298,
   "id": "79b64d9c",
   "metadata": {},
   "outputs": [
    {
     "name": "stdout",
     "output_type": "stream",
     "text": [
      "Accuracy of logistic regression on training set: 0.9026549\n"
     ]
    }
   ],
   "source": [
    "print('Accuracy of logistic regression on training set: {:.7f}'.format(grid_search_log.score(X_train, y_train)))\n"
   ]
  },
  {
   "cell_type": "code",
   "execution_count": 299,
   "id": "64dc1103",
   "metadata": {},
   "outputs": [
    {
     "name": "stdout",
     "output_type": "stream",
     "text": [
      "              precision    recall  f1-score   support\n",
      "\n",
      "           1       0.64      0.47      0.54        59\n",
      "           2       0.71      0.36      0.48        14\n",
      "           3       0.50      0.50      0.50         2\n",
      "           4       0.50      0.40      0.44         5\n",
      "           5       0.10      1.00      0.19         3\n",
      "           6       0.00      0.00      0.00         9\n",
      "           9       0.25      1.00      0.40         2\n",
      "          10       0.57      0.73      0.64        11\n",
      "          14       0.00      0.00      0.00         2\n",
      "          16       0.25      0.17      0.20         6\n",
      "\n",
      "    accuracy                           0.44       113\n",
      "   macro avg       0.35      0.46      0.34       113\n",
      "weighted avg       0.53      0.44      0.46       113\n",
      "\n"
     ]
    }
   ],
   "source": [
    "from sklearn.metrics import classification_report\n",
    "print(classification_report(y_test, dt_predicted))"
   ]
  },
  {
   "cell_type": "code",
   "execution_count": 353,
   "id": "f433034b",
   "metadata": {},
   "outputs": [
    {
     "name": "stdout",
     "output_type": "stream",
     "text": [
      "Train score: 0.99\n"
     ]
    }
   ],
   "source": [
    "from sklearn.ensemble import BaggingClassifier\n",
    "\n",
    "bag = BaggingClassifier(dt_clf_best, n_estimators=100, max_samples=1.0, bootstrap=True, n_jobs=-1, random_state=10)\n",
    "\n",
    "bag.fit(X_train, y_train)\n",
    "\n",
    "print('Train score: {0:0.2f}'.format(bag.score(X_train,y_train)))\n"
   ]
  },
  {
   "cell_type": "code",
   "execution_count": 378,
   "id": "8bcd1539",
   "metadata": {},
   "outputs": [
    {
     "name": "stdout",
     "output_type": "stream",
     "text": [
      "Train score: 0.98\n"
     ]
    }
   ],
   "source": [
    "from sklearn.ensemble import BaggingClassifier\n",
    "\n",
    "past = BaggingClassifier(dt_clf_best, n_estimators=100, max_samples=1.0, bootstrap=False, n_jobs=-1, random_state=10)\n",
    "\n",
    "past.fit(X_train, y_train)\n",
    "\n",
    "print('Train score: {0:0.2f}'.format(past.score(X_train,y_train)))\n"
   ]
  },
  {
   "cell_type": "code",
   "execution_count": 379,
   "id": "988026a8",
   "metadata": {},
   "outputs": [
    {
     "name": "stdout",
     "output_type": "stream",
     "text": [
      "Test score: 0.44\n"
     ]
    }
   ],
   "source": [
    "print('Test score: {0:0.2f}'.format(past_dtclf.score(X_test,y_test)))"
   ]
  },
  {
   "cell_type": "code",
   "execution_count": 380,
   "id": "10c87351",
   "metadata": {},
   "outputs": [
    {
     "name": "stdout",
     "output_type": "stream",
     "text": [
      "Test score: 0.47\n"
     ]
    }
   ],
   "source": [
    "print('Test score: {0:0.2f}'.format(bag.score(X_test,y_test)))"
   ]
  },
  {
   "cell_type": "markdown",
   "id": "3539e89e",
   "metadata": {},
   "source": [
    " ### Linear SVM"
   ]
  },
  {
   "cell_type": "code",
   "execution_count": 337,
   "id": "5d86c6f0",
   "metadata": {},
   "outputs": [
    {
     "data": {
      "text/plain": [
       "GridSearchCV(cv=5, estimator=SVC(),\n",
       "             param_grid={'C': [0.001, 0.01, 0.1, 0.5, 1, 10],\n",
       "                         'gamma': [0.001, 0.01, 0.1, 0.5, 1, 10]})"
      ]
     },
     "execution_count": 337,
     "metadata": {},
     "output_type": "execute_result"
    }
   ],
   "source": [
    "from sklearn.svm import SVC\n",
    "LinSVC = SVC(kernel='linear')\n",
    "LinSVM_params = {'C':[0.001, 0.01, 0.1, 0.5, 1, 10],\n",
    "                  'gamma':[0.001, 0.01, 0.1, 0.5, 1, 10]}\n",
    "\n",
    "grid_search_svc = GridSearchCV(svc, LinSVM_params, cv = 5)\n",
    "grid_search_svc.fit(X_train, y_train)\n"
   ]
  },
  {
   "cell_type": "code",
   "execution_count": 338,
   "id": "881364d4",
   "metadata": {},
   "outputs": [
    {
     "name": "stdout",
     "output_type": "stream",
     "text": [
      "[[35  2  0  0  3  0  2  0  0  2  0  0 15]\n",
      " [ 4  5  0  0  1  0  0  1  0  0  1  0  2]\n",
      " [ 0  0  2  0  0  0  0  0  0  0  0  0  0]\n",
      " [ 1  0  0  4  0  0  0  0  0  0  0  0  0]\n",
      " [ 0  0  0  0  0  0  0  0  0  0  0  0  3]\n",
      " [ 7  0  0  0  0  1  0  0  0  0  0  0  1]\n",
      " [ 0  0  0  0  0  0  0  0  0  0  0  0  0]\n",
      " [ 0  0  0  0  0  0  0  0  0  0  0  0  0]\n",
      " [ 0  0  0  0  0  0  0  0  2  0  0  0  0]\n",
      " [ 4  1  0  0  0  0  0  0  0  5  0  0  1]\n",
      " [ 0  1  0  0  0  0  0  0  0  0  1  0  0]\n",
      " [ 0  0  0  0  0  0  0  0  0  0  0  0  0]\n",
      " [ 1  0  0  1  0  0  0  0  1  2  0  1  0]]\n"
     ]
    }
   ],
   "source": [
    "from sklearn.metrics import confusion_matrix\n",
    "KernelSVC = SVC(kernel='linear',C=10,gamma=0.1).fit(X_train, y_train)\n",
    "KernelSVC_predicted = KernelSVC.predict(X_test)\n",
    "confusion = confusion_matrix(y_test, KernelSVC_predicted)\n",
    "\n",
    "print( confusion)"
   ]
  },
  {
   "cell_type": "code",
   "execution_count": 339,
   "id": "a8fad65c",
   "metadata": {},
   "outputs": [
    {
     "name": "stdout",
     "output_type": "stream",
     "text": [
      "Accuracy of linear SVM on training set: 0.99\n"
     ]
    }
   ],
   "source": [
    "print('Accuracy of linear SVM on training set: {:.2f}'\n",
    "     .format(grid_search_svc.score(X_train, y_train)))\n"
   ]
  },
  {
   "cell_type": "code",
   "execution_count": 340,
   "id": "3015c7e6",
   "metadata": {},
   "outputs": [
    {
     "name": "stdout",
     "output_type": "stream",
     "text": [
      "Best parameters: {'C': 10, 'gamma': 0.1}\n"
     ]
    }
   ],
   "source": [
    "print(\"Best parameters: {}\".format(grid_search_svc.best_params_))"
   ]
  },
  {
   "cell_type": "code",
   "execution_count": 341,
   "id": "e94f98d2",
   "metadata": {},
   "outputs": [
    {
     "name": "stdout",
     "output_type": "stream",
     "text": [
      "Accuracy of linear SVM on test set: 0.47\n"
     ]
    }
   ],
   "source": [
    "print('Accuracy of linear SVM on test set: {:.2f}'\n",
    "     .format(grid_search_svc.score(X_test, y_test)))"
   ]
  },
  {
   "cell_type": "code",
   "execution_count": 342,
   "id": "a04c3874",
   "metadata": {},
   "outputs": [
    {
     "name": "stdout",
     "output_type": "stream",
     "text": [
      "              precision    recall  f1-score   support\n",
      "\n",
      "           1       0.67      0.59      0.63        59\n",
      "           2       0.56      0.36      0.43        14\n",
      "           3       1.00      1.00      1.00         2\n",
      "           4       0.80      0.80      0.80         5\n",
      "           5       0.00      0.00      0.00         3\n",
      "           6       1.00      0.11      0.20         9\n",
      "           7       0.00      0.00      0.00         0\n",
      "           8       0.00      0.00      0.00         0\n",
      "           9       0.67      1.00      0.80         2\n",
      "          10       0.56      0.45      0.50        11\n",
      "          14       0.50      0.50      0.50         2\n",
      "          15       0.00      0.00      0.00         0\n",
      "          16       0.00      0.00      0.00         6\n",
      "\n",
      "    accuracy                           0.49       113\n",
      "   macro avg       0.44      0.37      0.37       113\n",
      "weighted avg       0.63      0.49      0.52       113\n",
      "\n"
     ]
    }
   ],
   "source": [
    "from sklearn.metrics import classification_report\n",
    "print(classification_report(y_test, KernelSVC_predicted ))"
   ]
  },
  {
   "cell_type": "code",
   "execution_count": 368,
   "id": "0367532d",
   "metadata": {},
   "outputs": [
    {
     "name": "stdout",
     "output_type": "stream",
     "text": [
      "Train score: 0.92\n"
     ]
    }
   ],
   "source": [
    "bag_PolySVC = BaggingClassifier(KernelSVC_best, n_estimators=100, max_samples=1.0, bootstrap=True, n_jobs=-1, random_state=10)\n",
    "\n",
    "bag_PolySVC.fit(X_train, y_train)\n",
    "\n",
    "print('Train score: {0:0.2f}'.format(bag_PolySVC.score(X_train,y_train)))"
   ]
  },
  {
   "cell_type": "markdown",
   "id": "2873d6cc",
   "metadata": {},
   "source": [
    "### Poly SVM "
   ]
  },
  {
   "cell_type": "code",
   "execution_count": 323,
   "id": "6b588157",
   "metadata": {},
   "outputs": [
    {
     "data": {
      "text/plain": [
       "GridSearchCV(cv=5, estimator=SVC(kernel='poly'),\n",
       "             param_grid={'C': [0.001, 0.01, 0.1, 1, 10, 100, 1000],\n",
       "                         'gamma': [1, 0.1, 0.001, 0.0001]})"
      ]
     },
     "execution_count": 323,
     "metadata": {},
     "output_type": "execute_result"
    }
   ],
   "source": [
    "KernelSVC = SVC(kernel='poly')\n",
    "kernelSVC_params = {'C':[0.001, 0.01, 0.1, 1, 10, 100, 1000],'gamma':[1,0.1,0.001,0.0001]}\n",
    "\n",
    "\n",
    "KernelSVC_clf = GridSearchCV(KernelSVC, kernelSVC_params,cv=5)\n",
    "KernelSVC_clf.fit(X_train,y_train)"
   ]
  },
  {
   "cell_type": "code",
   "execution_count": 344,
   "id": "6aee209c",
   "metadata": {},
   "outputs": [
    {
     "name": "stdout",
     "output_type": "stream",
     "text": [
      "Best parameters: {'C': 0.1, 'gamma': 0.1}\n"
     ]
    }
   ],
   "source": [
    "print(\"Best parameters: {}\".format(KernelSVC_clf.best_params_))"
   ]
  },
  {
   "cell_type": "code",
   "execution_count": 346,
   "id": "210cf7a6",
   "metadata": {},
   "outputs": [
    {
     "name": "stdout",
     "output_type": "stream",
     "text": [
      "[[47  8  0  1  0  0  0  1  0  0  2]\n",
      " [ 2  9  0  1  0  0  0  1  0  0  1]\n",
      " [ 0  0  2  0  0  0  0  0  0  0  0]\n",
      " [ 1  0  0  4  0  0  0  0  0  0  0]\n",
      " [ 2  0  0  0  1  0  0  0  0  0  0]\n",
      " [ 7  1  0  0  0  1  0  0  0  0  0]\n",
      " [ 0  0  0  0  0  0  2  0  0  0  0]\n",
      " [ 5  0  0  0  0  0  0  6  0  0  0]\n",
      " [ 0  1  0  0  0  0  0  0  1  0  0]\n",
      " [ 0  0  0  0  0  0  0  0  0  0  0]\n",
      " [ 1  1  0  1  0  0  0  2  0  1  0]]\n"
     ]
    }
   ],
   "source": [
    "from sklearn.metrics import confusion_matrix\n",
    "KernelSVC = SVC(kernel='poly',C=0.1,gamma=0.1).fit(X_train, y_train)\n",
    "KernelSVC_predicted = KernelSVC.predict(X_test)\n",
    "confusion = confusion_matrix(y_test, KernelSVC_predicted)\n",
    "\n",
    "print( confusion)"
   ]
  },
  {
   "cell_type": "code",
   "execution_count": 348,
   "id": "5712bb75",
   "metadata": {},
   "outputs": [
    {
     "name": "stdout",
     "output_type": "stream",
     "text": [
      "Accuracy of linear SVM on training set: 0.91\n"
     ]
    }
   ],
   "source": [
    "print('Accuracy of linear SVM on training set: {:.2f}'\n",
    "     .format(KernelSVC_clf.score(X_train, y_train)))\n"
   ]
  },
  {
   "cell_type": "code",
   "execution_count": 349,
   "id": "a950d226",
   "metadata": {},
   "outputs": [
    {
     "name": "stdout",
     "output_type": "stream",
     "text": [
      "Accuracy of linear SVM on test set: 0.65\n"
     ]
    }
   ],
   "source": [
    "print('Accuracy of linear SVM on test set: {:.2f}'\n",
    "     .format(KernelSVC_clf.score(X_test, y_test)))"
   ]
  },
  {
   "cell_type": "code",
   "execution_count": 350,
   "id": "fd30e669",
   "metadata": {},
   "outputs": [
    {
     "name": "stdout",
     "output_type": "stream",
     "text": [
      "              precision    recall  f1-score   support\n",
      "\n",
      "           1       0.72      0.80      0.76        59\n",
      "           2       0.45      0.64      0.53        14\n",
      "           3       1.00      1.00      1.00         2\n",
      "           4       0.57      0.80      0.67         5\n",
      "           5       1.00      0.33      0.50         3\n",
      "           6       1.00      0.11      0.20         9\n",
      "           9       1.00      1.00      1.00         2\n",
      "          10       0.60      0.55      0.57        11\n",
      "          14       1.00      0.50      0.67         2\n",
      "          15       0.00      0.00      0.00         0\n",
      "          16       0.00      0.00      0.00         6\n",
      "\n",
      "    accuracy                           0.65       113\n",
      "   macro avg       0.67      0.52      0.54       113\n",
      "weighted avg       0.68      0.65      0.62       113\n",
      "\n"
     ]
    }
   ],
   "source": [
    "from sklearn.metrics import classification_report\n",
    "print(classification_report(y_test, KernelSVC_predicted))"
   ]
  },
  {
   "cell_type": "code",
   "execution_count": 357,
   "id": "175aae9a",
   "metadata": {},
   "outputs": [
    {
     "name": "stdout",
     "output_type": "stream",
     "text": [
      "Train score: 0.92\n"
     ]
    }
   ],
   "source": [
    "bag_PolySVC = BaggingClassifier(KernelSVC_best, n_estimators=100, max_samples=1.0, bootstrap=True, n_jobs=-1, random_state=10)\n",
    "\n",
    "bag_PolySVC.fit(X_train, y_train)\n",
    "\n",
    "print('Train score: {0:0.2f}'.format(bag_PolySVC.score(X_train,y_train)))\n"
   ]
  },
  {
   "cell_type": "code",
   "execution_count": 358,
   "id": "7f99bed3",
   "metadata": {},
   "outputs": [
    {
     "name": "stdout",
     "output_type": "stream",
     "text": [
      "Test score: 0.65\n"
     ]
    }
   ],
   "source": [
    "print('Test score: {0:0.2f}'.format(bag_PolySVC.score(X_test,y_test)))"
   ]
  },
  {
   "cell_type": "code",
   "execution_count": null,
   "id": "7a631cbd",
   "metadata": {},
   "outputs": [],
   "source": []
  }
 ],
 "metadata": {
  "kernelspec": {
   "display_name": "Python 3",
   "language": "python",
   "name": "python3"
  },
  "language_info": {
   "codemirror_mode": {
    "name": "ipython",
    "version": 3
   },
   "file_extension": ".py",
   "mimetype": "text/x-python",
   "name": "python",
   "nbconvert_exporter": "python",
   "pygments_lexer": "ipython3",
   "version": "3.8.8"
  }
 },
 "nbformat": 4,
 "nbformat_minor": 5
}
